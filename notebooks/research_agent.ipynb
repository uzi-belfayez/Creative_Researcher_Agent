{
 "cells": [
  {
   "cell_type": "code",
   "execution_count": 1,
   "id": "d548d697",
   "metadata": {},
   "outputs": [],
   "source": [
    "import os, getpass\n",
    "\n",
    "def _set_env(var: str):\n",
    "    if not os.environ.get(var):\n",
    "        os.environ[var] = getpass.getpass(f\"{var}: \")\n",
    "\n",
    "_set_env(\"OPENAI_API_KEY\")"
   ]
  },
  {
   "cell_type": "code",
   "execution_count": 2,
   "id": "1ff5ec38",
   "metadata": {},
   "outputs": [],
   "source": [
    "from langchain_openai import ChatOpenAI\n",
    "llm = ChatOpenAI(model=\"gpt-4o\", temperature=0)"
   ]
  },
  {
   "cell_type": "code",
   "execution_count": 3,
   "id": "641eed62",
   "metadata": {},
   "outputs": [],
   "source": [
    "_set_env(\"LANGSMITH_API_KEY\")\n",
    "os.environ[\"LANGSMITH_TRACING\"] = \"true\"\n",
    "os.environ[\"LANGSMITH_PROJECT\"] = \"langchain-academy\""
   ]
  },
  {
   "cell_type": "code",
   "execution_count": 4,
   "id": "d4e96a67",
   "metadata": {},
   "outputs": [],
   "source": [
    "from typing import List\n",
    "from typing_extensions import TypedDict\n",
    "from pydantic import BaseModel, Field\n",
    "\n",
    "class Analyst(BaseModel):\n",
    "    affiliation: str = Field(\n",
    "        description=\"Primary affiliation of the analyst.\",\n",
    "    )\n",
    "    name: str = Field(\n",
    "        description=\"Name of the analyst.\"\n",
    "    )\n",
    "    role: str = Field(\n",
    "        description=\"Role of the analyst in the context of the topic.\",\n",
    "    )\n",
    "    description: str = Field(\n",
    "        description=\"Description of the analyst focus, concerns, and motives.\",\n",
    "    )\n",
    "    @property\n",
    "    def persona(self) -> str:\n",
    "        return f\"Name: {self.name}\\nRole: {self.role}\\nAffiliation: {self.affiliation}\\nDescription: {self.description}\\n\"\n",
    "\n",
    "class Perspectives(BaseModel):\n",
    "    analysts: List[Analyst] = Field(\n",
    "        description=\"Comprehensive list of analysts with their roles and affiliations.\",\n",
    "    )\n",
    "\n",
    "class GenerateAnalystsState(TypedDict):\n",
    "    topic: str # Research topic\n",
    "    max_analysts: int # Number of analysts\n",
    "    human_analyst_feedback: str # Human feedback\n",
    "    analysts: List[Analyst] # Analyst asking questions"
   ]
  },
  {
   "cell_type": "code",
   "execution_count": 5,
   "id": "f8669147",
   "metadata": {},
   "outputs": [
    {
     "data": {
      "image/png": "[encoded data removed]",
      "text/plain": [
       "<IPython.core.display.Image object>"
      ]
     },
     "metadata": {},
     "output_type": "display_data"
    }
   ],
   "source": [
    "from IPython.display import Image, display\n",
    "from langgraph.graph import START, END, StateGraph\n",
    "from langgraph.checkpoint.memory import MemorySaver\n",
    "from langchain_core.messages import AIMessage, HumanMessage, SystemMessage\n",
    "\n",
    "analyst_instructions=\"\"\"You are tasked with creating a set of AI analyst personas. Follow these instructions carefully:\n",
    "\n",
    "1. First, review the research topic:\n",
    "{topic}\n",
    "        \n",
    "2. Examine any editorial feedback that has been optionally provided to guide creation of the analysts: \n",
    "        \n",
    "{human_analyst_feedback}\n",
    "    \n",
    "3. Determine the most interesting themes based upon documents and / or feedback above.\n",
    "                    \n",
    "4. Pick the top {max_analysts} themes.\n",
    "\n",
    "5. Assign one analyst to each theme.\"\"\"\n",
    "\n",
    "def create_analysts(state: GenerateAnalystsState):\n",
    "    \n",
    "    \"\"\" Create analysts \"\"\"\n",
    "    \n",
    "    topic=state['topic']\n",
    "    max_analysts=state['max_analysts']\n",
    "    human_analyst_feedback=state.get('human_analyst_feedback', '')\n",
    "        \n",
    "    # Enforce structured output\n",
    "    structured_llm = llm.with_structured_output(Perspectives)\n",
    "\n",
    "    # System message\n",
    "    system_message = analyst_instructions.format(topic=topic,\n",
    "                                                            human_analyst_feedback=human_analyst_feedback, \n",
    "                                                            max_analysts=max_analysts)\n",
    "\n",
    "    # Generate question \n",
    "    analysts = structured_llm.invoke([SystemMessage(content=system_message)]+[HumanMessage(content=\"Generate the set of analysts.\")])\n",
    "    \n",
    "    # Write the list of analysis to state\n",
    "    return {\"analysts\": analysts.analysts}\n",
    "\n",
    "def human_feedback(state: GenerateAnalystsState):\n",
    "    \"\"\" No-op node that should be interrupted on \"\"\"\n",
    "    pass\n",
    "\n",
    "def should_continue(state: GenerateAnalystsState):\n",
    "    \"\"\" Return the next node to execute \"\"\"\n",
    "\n",
    "    # Check if human feedback\n",
    "    human_analyst_feedback=state.get('human_analyst_feedback', None)\n",
    "    if human_analyst_feedback:\n",
    "        return \"create_analysts\"\n",
    "    \n",
    "    # Otherwise end\n",
    "    return END\n",
    "\n",
    "# Add nodes and edges \n",
    "builder = StateGraph(GenerateAnalystsState)\n",
    "builder.add_node(\"create_analysts\", create_analysts)\n",
    "builder.add_node(\"human_feedback\", human_feedback)\n",
    "builder.add_edge(START, \"create_analysts\")\n",
    "builder.add_edge(\"create_analysts\", \"human_feedback\")\n",
    "builder.add_conditional_edges(\"human_feedback\", should_continue, [\"create_analysts\", END])\n",
    "\n",
    "# Compile\n",
    "memory = MemorySaver()\n",
    "graph = builder.compile(interrupt_before=['human_feedback'], checkpointer=memory)\n",
    "\n",
    "# View\n",
    "display(Image(graph.get_graph(xray=1).draw_mermaid_png()))"
   ]
  },
  {
   "cell_type": "code",
   "execution_count": 7,
   "id": "f436fe0b",
   "metadata": {},
   "outputs": [
    {
     "name": "stdout",
     "output_type": "stream",
     "text": [
      "Name: Dr. Sophie Martin\n",
      "Affiliation: University of Paris\n",
      "Role: Academic Career Advisor\n",
      "Description: Dr. Sophie Martin is an academic career advisor at the University of Paris. Her focus is on helping students navigate the internship landscape in France, particularly in understanding the educational requirements and how to leverage academic achievements to secure internships. She is concerned with ensuring students are well-prepared and informed about the opportunities available to them, and she is motivated by the desire to see students succeed in their career paths.\n",
      "--------------------------------------------------\n",
      "Name: Jean-Luc Dubois\n",
      "Affiliation: Tech Industry Network\n",
      "Role: Industry Recruiter\n",
      "Description: Jean-Luc Dubois is a seasoned recruiter in the tech industry, with a focus on connecting students and recent graduates with internship opportunities in France. His primary concern is identifying the skills and experiences that make candidates stand out to employers. He is motivated by the challenge of matching the right candidates with the right companies, ensuring a good fit for both parties.\n",
      "--------------------------------------------------\n",
      "Name: Marie-Claire Lefevre\n",
      "Affiliation: French Government Employment Agency\n",
      "Role: Policy Analyst\n",
      "Description: Marie-Claire Lefevre works as a policy analyst for the French Government Employment Agency. Her focus is on understanding and improving the policies that affect internship and employment opportunities for young professionals in France. She is concerned with the regulatory and economic factors that influence the job market and is motivated by the goal of creating a more accessible and equitable employment landscape for all.\n",
      "--------------------------------------------------\n",
      "Name: Dr. Claire Dubois\n",
      "Affiliation: Université Paris-Saclay\n",
      "Role: Academic Advisor\n",
      "Description: Dr. Dubois focuses on the academic pathways and educational prerequisites necessary for securing internships in AI. She is particularly interested in how students can leverage university resources, such as career services and faculty networks, to gain relevant experience and make connections in the AI industry in France.\n",
      "--------------------------------------------------\n",
      "Name: Marc Lefevre\n",
      "Affiliation: AI Startups France\n",
      "Role: Industry Recruiter\n",
      "Description: Marc Lefevre is a recruiter specializing in AI talent for startups in France. His focus is on the skills and experiences that make candidates stand out for internships and full-time positions. He provides insights into the hiring process, the importance of networking, and the specific technical and soft skills that are in demand in the French AI sector.\n",
      "--------------------------------------------------\n",
      "Name: Sophie Martin\n",
      "Affiliation: Tech Career Coach\n",
      "Role: Career Development Coach\n",
      "Description: Sophie Martin is a career coach who helps individuals navigate the transition from internships to full-time employment in AI. She emphasizes the importance of building a professional brand, continuous learning, and strategic career planning. Her approach includes guidance on how to effectively communicate one's value to potential employers and how to adapt to the evolving AI landscape in France.\n",
      "--------------------------------------------------\n"
     ]
    }
   ],
   "source": [
    "# Input\n",
    "max_analysts = 3 \n",
    "topic = \"Best ways to land a good internship and after a good work in france in the domain artificial intelligence  \"\n",
    "thread = {\"configurable\": {\"thread_id\": \"1\"}}\n",
    "\n",
    "# Run the graph until the first interruption\n",
    "for event in graph.stream({\"topic\":topic,\"max_analysts\":max_analysts,}, thread, stream_mode=\"values\"):\n",
    "    # Review\n",
    "    analysts = event.get('analysts', '')\n",
    "    if analysts:\n",
    "        for analyst in analysts:\n",
    "            print(f\"Name: {analyst.name}\")\n",
    "            print(f\"Affiliation: {analyst.affiliation}\")\n",
    "            print(f\"Role: {analyst.role}\")\n",
    "            print(f\"Description: {analyst.description}\")\n",
    "            print(\"-\" * 50)"
   ]
  },
  {
   "cell_type": "code",
   "execution_count": 8,
   "id": "cd993e6d",
   "metadata": {},
   "outputs": [
    {
     "data": {
      "text/plain": [
       "('human_feedback',)"
      ]
     },
     "execution_count": 8,
     "metadata": {},
     "output_type": "execute_result"
    }
   ],
   "source": [
    "# Get state and look at next node\n",
    "state = graph.get_state(thread)\n",
    "state.next"
   ]
  },
  {
   "cell_type": "code",
   "execution_count": 9,
   "id": "d42c0ea9",
   "metadata": {},
   "outputs": [
    {
     "data": {
      "text/plain": [
       "{'configurable': {'thread_id': '1',\n",
       "  'checkpoint_ns': '',\n",
       "  'checkpoint_id': '1f07de95-4689-6764-8005-5141902e8085'}}"
      ]
     },
     "execution_count": 9,
     "metadata": {},
     "output_type": "execute_result"
    }
   ],
   "source": [
    "# We now update the state as if we are the human_feedback node\n",
    "graph.update_state(thread, {\"human_analyst_feedback\": \n",
    "                            \"Add in a HR manager to add a recruiter perspective in the place of the career development coach\"}, as_node=\"human_feedback\")"
   ]
  },
  {
   "cell_type": "code",
   "execution_count": 10,
   "id": "e7090d7b",
   "metadata": {},
   "outputs": [
    {
     "name": "stdout",
     "output_type": "stream",
     "text": [
      "Name: Dr. Claire Dubois\n",
      "Affiliation: Université Paris-Saclay\n",
      "Role: Academic Advisor\n",
      "Description: Dr. Dubois focuses on the academic pathways and educational prerequisites necessary for securing internships in AI. She is particularly interested in how students can leverage university resources, such as career services and faculty networks, to gain relevant experience and make connections in the AI industry in France.\n",
      "--------------------------------------------------\n",
      "Name: Marc Lefevre\n",
      "Affiliation: AI Startups France\n",
      "Role: Industry Recruiter\n",
      "Description: Marc Lefevre is a recruiter specializing in AI talent for startups in France. His focus is on the skills and experiences that make candidates stand out for internships and full-time positions. He provides insights into the hiring process, the importance of networking, and the specific technical and soft skills that are in demand in the French AI sector.\n",
      "--------------------------------------------------\n",
      "Name: Sophie Martin\n",
      "Affiliation: Tech Career Coach\n",
      "Role: Career Development Coach\n",
      "Description: Sophie Martin is a career coach who helps individuals navigate the transition from internships to full-time employment in AI. She emphasizes the importance of building a professional brand, continuous learning, and strategic career planning. Her approach includes guidance on how to effectively communicate one's value to potential employers and how to adapt to the evolving AI landscape in France.\n",
      "--------------------------------------------------\n",
      "Name: Dr. Sophie Martin\n",
      "Affiliation: University of Paris\n",
      "Role: Academic Advisor\n",
      "Description: Dr. Martin focuses on guiding students in selecting the right academic courses and projects that align with industry demands in AI. She emphasizes the importance of building a strong academic foundation and gaining practical experience through research and internships.\n",
      "--------------------------------------------------\n",
      "Name: Alex Dupont\n",
      "Affiliation: Tech Innovate\n",
      "Role: Industry Expert\n",
      "Description: Alex is a seasoned AI professional with over a decade of experience in the field. He provides insights into the skills and technologies that are currently in demand in the AI industry in France. Alex advises on networking strategies and the importance of staying updated with the latest AI trends.\n",
      "--------------------------------------------------\n",
      "Name: Marie Leclerc\n",
      "Affiliation: Global Tech Recruiters\n",
      "Role: HR Manager\n",
      "Description: Marie specializes in recruiting for AI positions in France. She offers a recruiter’s perspective on what companies look for in candidates, the importance of a well-crafted resume, and how to effectively prepare for interviews. Marie also discusses the significance of internships as a stepping stone to full-time employment in AI.\n",
      "--------------------------------------------------\n"
     ]
    }
   ],
   "source": [
    "# Continue the graph execution\n",
    "for event in graph.stream(None, thread, stream_mode=\"values\"):\n",
    "    # Review\n",
    "    analysts = event.get('analysts', '')\n",
    "    if analysts:\n",
    "        for analyst in analysts:\n",
    "            print(f\"Name: {analyst.name}\")\n",
    "            print(f\"Affiliation: {analyst.affiliation}\")\n",
    "            print(f\"Role: {analyst.role}\")\n",
    "            print(f\"Description: {analyst.description}\")\n",
    "            print(\"-\" * 50) "
   ]
  },
  {
   "cell_type": "code",
   "execution_count": 11,
   "id": "a0a72d50",
   "metadata": {},
   "outputs": [
    {
     "data": {
      "text/plain": [
       "{'configurable': {'thread_id': '1',\n",
       "  'checkpoint_ns': '',\n",
       "  'checkpoint_id': '1f07de9e-2af2-647b-8007-ae21c7b0d0fe'}}"
      ]
     },
     "execution_count": 11,
     "metadata": {},
     "output_type": "execute_result"
    }
   ],
   "source": [
    "# If we are satisfied, then we simply supply no feedback\n",
    "further_feedack = None\n",
    "graph.update_state(thread, {\"human_analyst_feedback\": \n",
    "                            further_feedack}, as_node=\"human_feedback\")"
   ]
  },
  {
   "cell_type": "code",
   "execution_count": 12,
   "id": "a5f4b5c4",
   "metadata": {},
   "outputs": [],
   "source": [
    "# Continue the graph execution to end\n",
    "for event in graph.stream(None, thread, stream_mode=\"updates\"):\n",
    "    print(\"--Node--\")\n",
    "    node_name = next(iter(event.keys()))\n",
    "    print(node_name)"
   ]
  },
  {
   "cell_type": "code",
   "execution_count": 13,
   "id": "539aab3c",
   "metadata": {},
   "outputs": [],
   "source": [
    "final_state = graph.get_state(thread)\n",
    "analysts = final_state.values.get('analysts')"
   ]
  },
  {
   "cell_type": "code",
   "execution_count": 14,
   "id": "57b00780",
   "metadata": {},
   "outputs": [
    {
     "data": {
      "text/plain": [
       "()"
      ]
     },
     "execution_count": 14,
     "metadata": {},
     "output_type": "execute_result"
    }
   ],
   "source": [
    "final_state.next"
   ]
  },
  {
   "cell_type": "code",
   "execution_count": 15,
   "id": "c697fa91",
   "metadata": {},
   "outputs": [
    {
     "name": "stdout",
     "output_type": "stream",
     "text": [
      "Name: Dr. Sophie Martin\n",
      "Affiliation: University of Paris\n",
      "Role: Academic Advisor\n",
      "Description: Dr. Martin focuses on guiding students in selecting the right academic courses and projects that align with industry demands in AI. She emphasizes the importance of building a strong academic foundation and gaining practical experience through research and internships.\n",
      "--------------------------------------------------\n",
      "Name: Alex Dupont\n",
      "Affiliation: Tech Innovate\n",
      "Role: Industry Expert\n",
      "Description: Alex is a seasoned AI professional with over a decade of experience in the field. He provides insights into the skills and technologies that are currently in demand in the AI industry in France. Alex advises on networking strategies and the importance of staying updated with the latest AI trends.\n",
      "--------------------------------------------------\n",
      "Name: Marie Leclerc\n",
      "Affiliation: Global Tech Recruiters\n",
      "Role: HR Manager\n",
      "Description: Marie specializes in recruiting for AI positions in France. She offers a recruiter’s perspective on what companies look for in candidates, the importance of a well-crafted resume, and how to effectively prepare for interviews. Marie also discusses the significance of internships as a stepping stone to full-time employment in AI.\n",
      "--------------------------------------------------\n"
     ]
    }
   ],
   "source": [
    "for analyst in analysts:\n",
    "    print(f\"Name: {analyst.name}\")\n",
    "    print(f\"Affiliation: {analyst.affiliation}\")\n",
    "    print(f\"Role: {analyst.role}\")\n",
    "    print(f\"Description: {analyst.description}\")\n",
    "    print(\"-\" * 50) "
   ]
  }
 ],
 "metadata": {
  "kernelspec": {
   "display_name": "my-project",
   "language": "python",
   "name": "python3"
  },
  "language_info": {
   "codemirror_mode": {
    "name": "ipython",
    "version": 3
   },
   "file_extension": ".py",
   "mimetype": "text/x-python",
   "name": "python",
   "nbconvert_exporter": "python",
   "pygments_lexer": "ipython3",
   "version": "3.12.3"
  }
 },
 "nbformat": 4,
 "nbformat_minor": 5
}
